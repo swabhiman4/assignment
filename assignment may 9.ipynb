{
 "cells": [
  {
   "cell_type": "markdown",
   "id": "eac31ad4-896f-41cf-a5c9-88784ca9498f",
   "metadata": {},
   "source": [
    "Q1.\n",
    "(i) string"
   ]
  },
  {
   "cell_type": "code",
   "execution_count": 2,
   "id": "974abe0c-ad37-4bc4-9f0d-d74e54ce800b",
   "metadata": {
    "tags": []
   },
   "outputs": [],
   "source": [
    "a=\"sofan\""
   ]
  },
  {
   "cell_type": "markdown",
   "id": "d73206a2-fe64-481f-89d4-f60750131343",
   "metadata": {},
   "source": [
    "(ii) list"
   ]
  },
  {
   "cell_type": "code",
   "execution_count": 13,
   "id": "7df0131b-67eb-4450-9dd8-56a5a5d94e78",
   "metadata": {},
   "outputs": [],
   "source": [
    "b=['sofan',1,2,3,21.52,True]"
   ]
  },
  {
   "cell_type": "markdown",
   "id": "aeabb08f-089c-40b0-b0b6-a7421844a7aa",
   "metadata": {},
   "source": [
    "(iii) float"
   ]
  },
  {
   "cell_type": "code",
   "execution_count": 14,
   "id": "389a8c62-ce5a-4742-a83a-1d81782aed7c",
   "metadata": {},
   "outputs": [],
   "source": [
    "c=2156.563"
   ]
  },
  {
   "cell_type": "markdown",
   "id": "15275eda-7844-47dc-aa7e-bff198acec82",
   "metadata": {},
   "source": [
    "(iv) tuple"
   ]
  },
  {
   "cell_type": "code",
   "execution_count": 15,
   "id": "6093fe69-c4f9-4e40-a20b-95f3d42debcc",
   "metadata": {},
   "outputs": [],
   "source": [
    "d=(1,2,5,'hello',True,526326.585)"
   ]
  },
  {
   "cell_type": "markdown",
   "id": "d95ab0a6-074f-496e-b5d1-7f5316f2016e",
   "metadata": {},
   "source": [
    "Q2.\n"
   ]
  },
  {
   "cell_type": "markdown",
   "id": "21ec98fe-e32f-4ac8-ac3e-824686f2a643",
   "metadata": {},
   "source": [
    "(i) var1 = ''\n",
    "     --- string variable"
   ]
  },
  {
   "cell_type": "markdown",
   "id": "bb84f31f-ce68-4019-84cb-5cc5097cfa00",
   "metadata": {},
   "source": [
    "(ii) var2 = '[ DS , ML , Python]'\n",
    "       --- string variable"
   ]
  },
  {
   "cell_type": "markdown",
   "id": "c0bb7af0-263f-4902-9261-ec94ff0c3f48",
   "metadata": {},
   "source": [
    "(iii) var3 = [ ‘DS’ , ’ML’ , ‘Python’ ]\n",
    "        ---- list variable"
   ]
  },
  {
   "cell_type": "markdown",
   "id": "e8d3d19a-0b44-4695-ad57-a5e7c566794d",
   "metadata": {},
   "source": [
    "(iv) var4 = 1\n",
    "      --- int variable"
   ]
  },
  {
   "cell_type": "markdown",
   "id": "755f02d5-dd6f-4965-a3c3-871155f6806f",
   "metadata": {},
   "source": [
    "Q3."
   ]
  },
  {
   "cell_type": "code",
   "execution_count": 23,
   "id": "986d50cb-9116-444a-8e7e-f12e13d33f74",
   "metadata": {},
   "outputs": [
    {
     "data": {
      "text/plain": [
       "22.0"
      ]
     },
     "execution_count": 23,
     "metadata": {},
     "output_type": "execute_result"
    }
   ],
   "source": [
    "110/5"
   ]
  },
  {
   "cell_type": "code",
   "execution_count": 24,
   "id": "dad72315-d859-4d60-8898-1f5d41a48cba",
   "metadata": {},
   "outputs": [
    {
     "data": {
      "text/plain": [
       "0"
      ]
     },
     "execution_count": 24,
     "metadata": {},
     "output_type": "execute_result"
    }
   ],
   "source": [
    "50%5"
   ]
  },
  {
   "cell_type": "code",
   "execution_count": 2,
   "id": "1b2edae8-8562-4d5a-8f7e-f33708259928",
   "metadata": {},
   "outputs": [
    {
     "data": {
      "text/plain": [
       "188"
      ]
     },
     "execution_count": 2,
     "metadata": {},
     "output_type": "execute_result"
    }
   ],
   "source": [
    "10569//56"
   ]
  },
  {
   "cell_type": "code",
   "execution_count": 27,
   "id": "3a2ce2ab-24dc-4715-8847-f84bdaca4649",
   "metadata": {},
   "outputs": [
    {
     "data": {
      "text/plain": [
       "913517247483640899"
      ]
     },
     "execution_count": 27,
     "metadata": {},
     "output_type": "execute_result"
    }
   ],
   "source": [
    "99**9"
   ]
  },
  {
   "cell_type": "markdown",
   "id": "5a460dab-6031-4edd-9138-e5e344f29759",
   "metadata": {},
   "source": [
    "Q4. Create a list of length 10 of your choice containing multiple types of data. Using for loop print the\n",
    "element and its data type.\n",
    "\n"
   ]
  },
  {
   "cell_type": "code",
   "execution_count": 4,
   "id": "d3acf51b-50ba-4b58-9eb1-05e400a35b07",
   "metadata": {},
   "outputs": [
    {
     "name": "stdout",
     "output_type": "stream",
     "text": [
      "<class 'str'>\n",
      "<class 'int'>\n",
      "<class 'int'>\n",
      "<class 'float'>\n",
      "<class 'bool'>\n",
      "<class 'str'>\n",
      "<class 'str'>\n",
      "<class 'int'>\n",
      "<class 'str'>\n",
      "<class 'int'>\n"
     ]
    }
   ],
   "source": [
    "d1 = ['sofan',89,34,112.5632,True,'data_science','balangir',456,'odisha',2296]\n",
    "for i in d1:\n",
    "    print(type(i))"
   ]
  },
  {
   "cell_type": "markdown",
   "id": "d825cce0-073b-467b-9bc7-e7c6bdae4436",
   "metadata": {},
   "source": [
    "Q5. Using a while loop, verify if the number A is purely divisible by number B and if so then how many\n",
    "times it can be divisible.\n",
    "\n"
   ]
  },
  {
   "cell_type": "code",
   "execution_count": 12,
   "id": "3fc43008-7245-4984-9244-40e17df6e02a",
   "metadata": {},
   "outputs": [
    {
     "name": "stdin",
     "output_type": "stream",
     "text": [
      "enter the value A 75\n",
      "enter the value B 2\n"
     ]
    },
    {
     "name": "stdout",
     "output_type": "stream",
     "text": [
      "a is divisible by b\n"
     ]
    }
   ],
   "source": [
    "A=int(input(\"enter the value A\"))\n",
    "B=int(input(\"enter the value B\"))\n",
    "while A%B==0:\n",
    "    A=A%B\n",
    "if A>0:\n",
    "    print(\"a is divisible by b\")\n",
    "else:\n",
    "    print(\"a is not divided\")"
   ]
  },
  {
   "cell_type": "markdown",
   "id": "4c836ca2-b177-4599-abe5-f4e1a0a28223",
   "metadata": {},
   "source": [
    "Q6. Create a list containing 25 int type data. Using for loop and if-else condition print if the element is\n",
    "divisible by 3 or not.\n",
    "\n"
   ]
  },
  {
   "cell_type": "code",
   "execution_count": 5,
   "id": "28d358f0-a077-4318-887c-c02fa67e0e2d",
   "metadata": {},
   "outputs": [
    {
     "name": "stdout",
     "output_type": "stream",
     "text": [
      "i is divisible by 3\n",
      "i is not divisible by 3\n",
      "i is not divisible by 3\n",
      "i is divisible by 3\n",
      "i is not divisible by 3\n",
      "i is not divisible by 3\n",
      "i is divisible by 3\n",
      "i is not divisible by 3\n",
      "i is not divisible by 3\n",
      "i is divisible by 3\n",
      "i is not divisible by 3\n",
      "i is not divisible by 3\n",
      "i is divisible by 3\n",
      "i is not divisible by 3\n",
      "i is not divisible by 3\n",
      "i is divisible by 3\n",
      "i is not divisible by 3\n",
      "i is not divisible by 3\n",
      "i is divisible by 3\n",
      "i is not divisible by 3\n",
      "i is not divisible by 3\n",
      "i is divisible by 3\n",
      "i is not divisible by 3\n",
      "i is not divisible by 3\n",
      "i is divisible by 3\n"
     ]
    }
   ],
   "source": [
    "my_list = []\n",
    "for i in range(25):\n",
    "    if i % 3 == 0:\n",
    "        print(\"i is divisible by 3\")\n",
    "    else:\n",
    "        print(\"i is not divisible by 3\")\n",
    "    my_list.append(i)"
   ]
  },
  {
   "cell_type": "markdown",
   "id": "7e861a27-fd2c-4e37-801b-96736b12ce01",
   "metadata": {},
   "source": [
    "Q7. What do you understand about mutable and immutable data types? Give examples for both showing\n",
    "this property."
   ]
  },
  {
   "cell_type": "markdown",
   "id": "4215e674-5ae8-4a85-a364-832a3de57abc",
   "metadata": {},
   "source": [
    "ans-:A mutable object can be changed after it is created and an immutable object cannot be changed after it is created.\n",
    "    mutable object example is 'LIST' and immutable object is 'TUPLE','STRING'."
   ]
  },
  {
   "cell_type": "code",
   "execution_count": null,
   "id": "ab09f2a0-8a8e-4126-a409-feb77e855caa",
   "metadata": {},
   "outputs": [],
   "source": []
  }
 ],
 "metadata": {
  "kernelspec": {
   "display_name": "Python 3 (ipykernel)",
   "language": "python",
   "name": "python3"
  },
  "language_info": {
   "codemirror_mode": {
    "name": "ipython",
    "version": 3
   },
   "file_extension": ".py",
   "mimetype": "text/x-python",
   "name": "python",
   "nbconvert_exporter": "python",
   "pygments_lexer": "ipython3",
   "version": "3.10.8"
  }
 },
 "nbformat": 4,
 "nbformat_minor": 5
}
